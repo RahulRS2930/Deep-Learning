{
 "cells": [
  {
   "cell_type": "code",
   "execution_count": 3,
   "id": "20327314",
   "metadata": {},
   "outputs": [
    {
     "name": "stdout",
     "output_type": "stream",
     "text": [
      "Collecting tensorflow-gpu\n",
      "  Downloading tensorflow_gpu-2.10.1-cp39-cp39-win_amd64.whl (455.9 MB)\n",
      "Collecting tensorflow-estimator<2.11,>=2.10.0\n",
      "  Using cached tensorflow_estimator-2.10.0-py2.py3-none-any.whl (438 kB)\n",
      "Requirement already satisfied: keras<2.11,>=2.10.0 in c:\\users\\rahul\\anaconda3\\lib\\site-packages (from tensorflow-gpu) (2.10.0)\n",
      "Collecting tensorboard<2.11,>=2.10\n",
      "  Using cached tensorboard-2.10.1-py3-none-any.whl (5.9 MB)\n",
      "Requirement already satisfied: h5py>=2.9.0 in c:\\users\\rahul\\anaconda3\\lib\\site-packages (from tensorflow-gpu) (3.6.0)\n",
      "Collecting astunparse>=1.6.0\n",
      "  Using cached astunparse-1.6.3-py2.py3-none-any.whl (12 kB)\n",
      "Collecting tensorflow-io-gcs-filesystem>=0.23.1\n",
      "  Using cached tensorflow_io_gcs_filesystem-0.28.0-cp39-cp39-win_amd64.whl (1.5 MB)\n",
      "Requirement already satisfied: six>=1.12.0 in c:\\users\\rahul\\anaconda3\\lib\\site-packages (from tensorflow-gpu) (1.16.0)\n",
      "Collecting google-pasta>=0.1.1\n",
      "  Using cached google_pasta-0.2.0-py3-none-any.whl (57 kB)\n",
      "Collecting termcolor>=1.1.0\n",
      "  Using cached termcolor-2.1.1-py3-none-any.whl (6.2 kB)\n",
      "Requirement already satisfied: packaging in c:\\users\\rahul\\anaconda3\\lib\\site-packages (from tensorflow-gpu) (21.3)\n",
      "Requirement already satisfied: wrapt>=1.11.0 in c:\\users\\rahul\\anaconda3\\lib\\site-packages (from tensorflow-gpu) (1.12.1)\n",
      "Collecting gast<=0.4.0,>=0.2.1\n",
      "  Using cached gast-0.4.0-py3-none-any.whl (9.8 kB)\n",
      "Requirement already satisfied: typing-extensions>=3.6.6 in c:\\users\\rahul\\anaconda3\\lib\\site-packages (from tensorflow-gpu) (4.1.1)\n",
      "Collecting flatbuffers>=2.0\n",
      "  Using cached flatbuffers-22.10.26-py2.py3-none-any.whl (26 kB)\n",
      "Requirement already satisfied: numpy>=1.20 in c:\\users\\rahul\\anaconda3\\lib\\site-packages (from tensorflow-gpu) (1.21.5)\n",
      "Requirement already satisfied: protobuf<3.20,>=3.9.2 in c:\\users\\rahul\\anaconda3\\lib\\site-packages (from tensorflow-gpu) (3.19.1)\n",
      "Requirement already satisfied: setuptools in c:\\users\\rahul\\anaconda3\\lib\\site-packages (from tensorflow-gpu) (61.2.0)\n",
      "Collecting libclang>=13.0.0\n",
      "  Using cached libclang-14.0.6-py2.py3-none-win_amd64.whl (14.2 MB)\n",
      "Requirement already satisfied: grpcio<2.0,>=1.24.3 in c:\\users\\rahul\\anaconda3\\lib\\site-packages (from tensorflow-gpu) (1.42.0)\n",
      "Collecting absl-py>=1.0.0\n",
      "  Using cached absl_py-1.3.0-py3-none-any.whl (124 kB)\n",
      "Collecting keras-preprocessing>=1.1.1\n",
      "  Using cached Keras_Preprocessing-1.1.2-py2.py3-none-any.whl (42 kB)\n",
      "Collecting opt-einsum>=2.3.2\n",
      "  Using cached opt_einsum-3.3.0-py3-none-any.whl (65 kB)\n",
      "Requirement already satisfied: wheel<1.0,>=0.23.0 in c:\\users\\rahul\\anaconda3\\lib\\site-packages (from astunparse>=1.6.0->tensorflow-gpu) (0.37.1)\n",
      "Collecting google-auth-oauthlib<0.5,>=0.4.1\n",
      "  Using cached google_auth_oauthlib-0.4.6-py2.py3-none-any.whl (18 kB)\n",
      "Requirement already satisfied: markdown>=2.6.8 in c:\\users\\rahul\\anaconda3\\lib\\site-packages (from tensorboard<2.11,>=2.10->tensorflow-gpu) (3.3.4)\n",
      "Collecting tensorboard-data-server<0.7.0,>=0.6.0\n",
      "  Using cached tensorboard_data_server-0.6.1-py3-none-any.whl (2.4 kB)\n",
      "Requirement already satisfied: google-auth<3,>=1.6.3 in c:\\users\\rahul\\anaconda3\\lib\\site-packages (from tensorboard<2.11,>=2.10->tensorflow-gpu) (1.33.0)\n",
      "Collecting tensorboard-plugin-wit>=1.6.0\n",
      "  Using cached tensorboard_plugin_wit-1.8.1-py3-none-any.whl (781 kB)\n",
      "Requirement already satisfied: werkzeug>=1.0.1 in c:\\users\\rahul\\anaconda3\\lib\\site-packages (from tensorboard<2.11,>=2.10->tensorflow-gpu) (2.0.3)\n",
      "Requirement already satisfied: requests<3,>=2.21.0 in c:\\users\\rahul\\anaconda3\\lib\\site-packages (from tensorboard<2.11,>=2.10->tensorflow-gpu) (2.27.1)\n",
      "Requirement already satisfied: pyasn1-modules>=0.2.1 in c:\\users\\rahul\\anaconda3\\lib\\site-packages (from google-auth<3,>=1.6.3->tensorboard<2.11,>=2.10->tensorflow-gpu) (0.2.8)\n",
      "Requirement already satisfied: cachetools<5.0,>=2.0.0 in c:\\users\\rahul\\anaconda3\\lib\\site-packages (from google-auth<3,>=1.6.3->tensorboard<2.11,>=2.10->tensorflow-gpu) (4.2.2)\n",
      "Requirement already satisfied: rsa<5,>=3.1.4 in c:\\users\\rahul\\anaconda3\\lib\\site-packages (from google-auth<3,>=1.6.3->tensorboard<2.11,>=2.10->tensorflow-gpu) (4.7.2)\n",
      "Collecting requests-oauthlib>=0.7.0\n",
      "  Using cached requests_oauthlib-1.3.1-py2.py3-none-any.whl (23 kB)\n",
      "Requirement already satisfied: pyasn1<0.5.0,>=0.4.6 in c:\\users\\rahul\\anaconda3\\lib\\site-packages (from pyasn1-modules>=0.2.1->google-auth<3,>=1.6.3->tensorboard<2.11,>=2.10->tensorflow-gpu) (0.4.8)\n",
      "Requirement already satisfied: certifi>=2017.4.17 in c:\\users\\rahul\\anaconda3\\lib\\site-packages (from requests<3,>=2.21.0->tensorboard<2.11,>=2.10->tensorflow-gpu) (2021.10.8)\n",
      "Requirement already satisfied: idna<4,>=2.5 in c:\\users\\rahul\\anaconda3\\lib\\site-packages (from requests<3,>=2.21.0->tensorboard<2.11,>=2.10->tensorflow-gpu) (3.3)\n",
      "Requirement already satisfied: charset-normalizer~=2.0.0 in c:\\users\\rahul\\anaconda3\\lib\\site-packages (from requests<3,>=2.21.0->tensorboard<2.11,>=2.10->tensorflow-gpu) (2.0.4)\n",
      "Requirement already satisfied: urllib3<1.27,>=1.21.1 in c:\\users\\rahul\\anaconda3\\lib\\site-packages (from requests<3,>=2.21.0->tensorboard<2.11,>=2.10->tensorflow-gpu) (1.26.9)\n",
      "Collecting oauthlib>=3.0.0\n",
      "  Using cached oauthlib-3.2.2-py3-none-any.whl (151 kB)\n",
      "Requirement already satisfied: pyparsing!=3.0.5,>=2.0.2 in c:\\users\\rahul\\anaconda3\\lib\\site-packages (from packaging->tensorflow-gpu) (3.0.4)\n",
      "Installing collected packages: oauthlib, requests-oauthlib, tensorboard-plugin-wit, tensorboard-data-server, google-auth-oauthlib, absl-py, termcolor, tensorflow-io-gcs-filesystem, tensorflow-estimator, tensorboard, opt-einsum, libclang, keras-preprocessing, google-pasta, gast, flatbuffers, astunparse, tensorflow-gpu\n",
      "Successfully installed absl-py-1.3.0 astunparse-1.6.3 flatbuffers-22.10.26 gast-0.4.0 google-auth-oauthlib-0.4.6 google-pasta-0.2.0 keras-preprocessing-1.1.2 libclang-14.0.6 oauthlib-3.2.2 opt-einsum-3.3.0 requests-oauthlib-1.3.1 tensorboard-2.10.1 tensorboard-data-server-0.6.1 tensorboard-plugin-wit-1.8.1 tensorflow-estimator-2.10.0 tensorflow-gpu-2.10.1 tensorflow-io-gcs-filesystem-0.28.0 termcolor-2.1.1\n"
     ]
    }
   ],
   "source": [
    "!pip install tensorflow-gpu"
   ]
  },
  {
   "cell_type": "code",
   "execution_count": 20,
   "id": "9d45b4ec",
   "metadata": {},
   "outputs": [],
   "source": [
    "# Artificial Neural Network\n",
    "\n",
    "# Part 1 - Data Preprocessing\n",
    "\n",
    "# Importing the libraries\n",
    "import numpy as np\n",
    "import matplotlib.pyplot as plt\n",
    "import pandas as pd"
   ]
  },
  {
   "cell_type": "code",
   "execution_count": 21,
   "id": "85ef3364",
   "metadata": {},
   "outputs": [],
   "source": [
    "# Importing the dataset\n",
    "dataset = pd.read_csv('Churn_Modelling.txt')\n",
    "X = dataset.iloc[:, 3:13]\n",
    "y = dataset.iloc[:, 13]"
   ]
  },
  {
   "cell_type": "code",
   "execution_count": 22,
   "id": "3c20b8cc",
   "metadata": {},
   "outputs": [],
   "source": [
    "#Create dummy variables\n",
    "geography=pd.get_dummies(X[\"Geography\"],drop_first=True)\n",
    "gender=pd.get_dummies(X['Gender'],drop_first=True)"
   ]
  },
  {
   "cell_type": "code",
   "execution_count": 23,
   "id": "722b59dd",
   "metadata": {},
   "outputs": [],
   "source": [
    "## Concatenate the Data Frames\n",
    "\n",
    "X=pd.concat([X,geography,gender],axis=1)"
   ]
  },
  {
   "cell_type": "code",
   "execution_count": 24,
   "id": "c4693dc6",
   "metadata": {},
   "outputs": [],
   "source": [
    "## Drop Unnecessary columns\n",
    "X=X.drop(['Geography','Gender'],axis=1)"
   ]
  },
  {
   "cell_type": "code",
   "execution_count": 25,
   "id": "fee26954",
   "metadata": {},
   "outputs": [],
   "source": [
    "# Splitting the dataset into the Training set and Test set\n",
    "from sklearn.model_selection import train_test_split\n",
    "X_train, X_test, y_train, y_test = train_test_split(X, y, test_size = 0.2, random_state = 0)"
   ]
  },
  {
   "cell_type": "code",
   "execution_count": 26,
   "id": "ab46239b",
   "metadata": {},
   "outputs": [],
   "source": [
    "# Feature Scaling\n",
    "from sklearn.preprocessing import StandardScaler\n",
    "sc = StandardScaler()\n",
    "X_train = sc.fit_transform(X_train)\n",
    "X_test = sc.transform(X_test)"
   ]
  },
  {
   "cell_type": "code",
   "execution_count": 27,
   "id": "ea80c4fb",
   "metadata": {},
   "outputs": [],
   "source": [
    "# Part 2 - Now let's make the ANN!\n",
    "\n",
    "# Importing the Keras libraries and packages\n",
    "import keras\n",
    "from keras.models import Sequential\n",
    "from keras.layers import Dense\n",
    "from keras.layers import LeakyReLU,PReLU,ELU\n",
    "from keras.layers import Dropout"
   ]
  },
  {
   "cell_type": "code",
   "execution_count": 28,
   "id": "f0003930",
   "metadata": {},
   "outputs": [],
   "source": [
    "# Initialising the ANN\n",
    "classifier = Sequential()"
   ]
  },
  {
   "cell_type": "code",
   "execution_count": 14,
   "id": "630ce38b",
   "metadata": {},
   "outputs": [
    {
     "name": "stdout",
     "output_type": "stream",
     "text": [
      "Epoch 1/100\n",
      "536/536 [==============================] - 1s 1ms/step - loss: 0.8095 - accuracy: 0.4893 - val_loss: 0.5961 - val_accuracy: 0.6759\n",
      "Epoch 2/100\n",
      "536/536 [==============================] - 1s 1ms/step - loss: 0.5453 - accuracy: 0.7522 - val_loss: 0.5063 - val_accuracy: 0.7910\n",
      "Epoch 3/100\n",
      "536/536 [==============================] - 1s 1ms/step - loss: 0.5002 - accuracy: 0.7966 - val_loss: 0.4861 - val_accuracy: 0.7955\n",
      "Epoch 4/100\n",
      "536/536 [==============================] - 1s 1ms/step - loss: 0.4832 - accuracy: 0.7972 - val_loss: 0.4746 - val_accuracy: 0.7948\n",
      "Epoch 5/100\n",
      "536/536 [==============================] - 1s 1ms/step - loss: 0.4701 - accuracy: 0.7975 - val_loss: 0.4656 - val_accuracy: 0.7963\n",
      "Epoch 6/100\n",
      "536/536 [==============================] - 1s 990us/step - loss: 0.4584 - accuracy: 0.7981 - val_loss: 0.4570 - val_accuracy: 0.7993\n",
      "Epoch 7/100\n",
      "536/536 [==============================] - 1s 1ms/step - loss: 0.4481 - accuracy: 0.8011 - val_loss: 0.4495 - val_accuracy: 0.8020\n",
      "Epoch 8/100\n",
      "536/536 [==============================] - 1s 1ms/step - loss: 0.4385 - accuracy: 0.8065 - val_loss: 0.4426 - val_accuracy: 0.8088\n",
      "Epoch 9/100\n",
      "536/536 [==============================] - 1s 995us/step - loss: 0.4298 - accuracy: 0.8108 - val_loss: 0.4367 - val_accuracy: 0.8122\n",
      "Epoch 10/100\n",
      "536/536 [==============================] - 1s 1000us/step - loss: 0.4223 - accuracy: 0.8173 - val_loss: 0.4312 - val_accuracy: 0.8164\n",
      "Epoch 11/100\n",
      "536/536 [==============================] - 1s 1ms/step - loss: 0.4163 - accuracy: 0.8229 - val_loss: 0.4267 - val_accuracy: 0.8167\n",
      "Epoch 12/100\n",
      "536/536 [==============================] - 1s 996us/step - loss: 0.4108 - accuracy: 0.8265 - val_loss: 0.4217 - val_accuracy: 0.8190\n",
      "Epoch 13/100\n",
      "536/536 [==============================] - 1s 1ms/step - loss: 0.4054 - accuracy: 0.8306 - val_loss: 0.4169 - val_accuracy: 0.8243\n",
      "Epoch 14/100\n",
      "536/536 [==============================] - 1s 1ms/step - loss: 0.4002 - accuracy: 0.8347 - val_loss: 0.4127 - val_accuracy: 0.8251\n",
      "Epoch 15/100\n",
      "536/536 [==============================] - 1s 1ms/step - loss: 0.3953 - accuracy: 0.8399 - val_loss: 0.4082 - val_accuracy: 0.8281\n",
      "Epoch 16/100\n",
      "536/536 [==============================] - 1s 1ms/step - loss: 0.3906 - accuracy: 0.8425 - val_loss: 0.4041 - val_accuracy: 0.8311\n",
      "Epoch 17/100\n",
      "536/536 [==============================] - 1s 1ms/step - loss: 0.3864 - accuracy: 0.8447 - val_loss: 0.4002 - val_accuracy: 0.8345\n",
      "Epoch 18/100\n",
      "536/536 [==============================] - 1s 1ms/step - loss: 0.3825 - accuracy: 0.8464 - val_loss: 0.3964 - val_accuracy: 0.8357\n",
      "Epoch 19/100\n",
      "536/536 [==============================] - 1s 984us/step - loss: 0.3788 - accuracy: 0.8470 - val_loss: 0.3929 - val_accuracy: 0.8368\n",
      "Epoch 20/100\n",
      "536/536 [==============================] - 1s 1ms/step - loss: 0.3756 - accuracy: 0.8462 - val_loss: 0.3897 - val_accuracy: 0.8376\n",
      "Epoch 21/100\n",
      "536/536 [==============================] - 1s 1000us/step - loss: 0.3729 - accuracy: 0.8475 - val_loss: 0.3871 - val_accuracy: 0.8410\n",
      "Epoch 22/100\n",
      "536/536 [==============================] - 1s 994us/step - loss: 0.3706 - accuracy: 0.8487 - val_loss: 0.3846 - val_accuracy: 0.8421\n",
      "Epoch 23/100\n",
      "536/536 [==============================] - 1s 994us/step - loss: 0.3684 - accuracy: 0.8509 - val_loss: 0.3827 - val_accuracy: 0.8417\n",
      "Epoch 24/100\n",
      "536/536 [==============================] - 1s 1ms/step - loss: 0.3666 - accuracy: 0.8513 - val_loss: 0.3809 - val_accuracy: 0.8402\n",
      "Epoch 25/100\n",
      "536/536 [==============================] - 1s 1ms/step - loss: 0.3651 - accuracy: 0.8507 - val_loss: 0.3796 - val_accuracy: 0.8417\n",
      "Epoch 26/100\n",
      "536/536 [==============================] - 1s 1ms/step - loss: 0.3638 - accuracy: 0.8518 - val_loss: 0.3784 - val_accuracy: 0.8429\n",
      "Epoch 27/100\n",
      "536/536 [==============================] - 1s 1ms/step - loss: 0.3624 - accuracy: 0.8518 - val_loss: 0.3772 - val_accuracy: 0.8444\n",
      "Epoch 28/100\n",
      "536/536 [==============================] - 1s 980us/step - loss: 0.3612 - accuracy: 0.8522 - val_loss: 0.3763 - val_accuracy: 0.8436\n",
      "Epoch 29/100\n",
      "536/536 [==============================] - 1s 1ms/step - loss: 0.3600 - accuracy: 0.8517 - val_loss: 0.3756 - val_accuracy: 0.8429\n",
      "Epoch 30/100\n",
      "536/536 [==============================] - 1s 964us/step - loss: 0.3592 - accuracy: 0.8522 - val_loss: 0.3746 - val_accuracy: 0.8459\n",
      "Epoch 31/100\n",
      "536/536 [==============================] - 1s 1ms/step - loss: 0.3584 - accuracy: 0.8509 - val_loss: 0.3738 - val_accuracy: 0.8463\n",
      "Epoch 32/100\n",
      "536/536 [==============================] - 1s 963us/step - loss: 0.3575 - accuracy: 0.8517 - val_loss: 0.3732 - val_accuracy: 0.8470\n",
      "Epoch 33/100\n",
      "536/536 [==============================] - 1s 1ms/step - loss: 0.3566 - accuracy: 0.8505 - val_loss: 0.3728 - val_accuracy: 0.8459\n",
      "Epoch 34/100\n",
      "536/536 [==============================] - 1s 984us/step - loss: 0.3561 - accuracy: 0.8515 - val_loss: 0.3720 - val_accuracy: 0.8474\n",
      "Epoch 35/100\n",
      "536/536 [==============================] - 1s 986us/step - loss: 0.3553 - accuracy: 0.8511 - val_loss: 0.3714 - val_accuracy: 0.8470\n",
      "Epoch 36/100\n",
      "536/536 [==============================] - 1s 992us/step - loss: 0.3547 - accuracy: 0.8517 - val_loss: 0.3708 - val_accuracy: 0.8455\n",
      "Epoch 37/100\n",
      "536/536 [==============================] - 1s 1ms/step - loss: 0.3542 - accuracy: 0.8528 - val_loss: 0.3704 - val_accuracy: 0.8474\n",
      "Epoch 38/100\n",
      "536/536 [==============================] - 1s 1ms/step - loss: 0.3536 - accuracy: 0.8509 - val_loss: 0.3700 - val_accuracy: 0.8474\n",
      "Epoch 39/100\n",
      "536/536 [==============================] - 1s 1ms/step - loss: 0.3530 - accuracy: 0.8503 - val_loss: 0.3697 - val_accuracy: 0.8474\n",
      "Epoch 40/100\n",
      "536/536 [==============================] - 1s 1ms/step - loss: 0.3524 - accuracy: 0.8513 - val_loss: 0.3695 - val_accuracy: 0.8470\n",
      "Epoch 41/100\n",
      "536/536 [==============================] - 1s 991us/step - loss: 0.3518 - accuracy: 0.8515 - val_loss: 0.3691 - val_accuracy: 0.8474\n",
      "Epoch 42/100\n",
      "536/536 [==============================] - 1s 1ms/step - loss: 0.3512 - accuracy: 0.8522 - val_loss: 0.3691 - val_accuracy: 0.8474\n",
      "Epoch 43/100\n",
      "536/536 [==============================] - 1s 1ms/step - loss: 0.3508 - accuracy: 0.8515 - val_loss: 0.3683 - val_accuracy: 0.8493\n",
      "Epoch 44/100\n",
      "536/536 [==============================] - 1s 1ms/step - loss: 0.3502 - accuracy: 0.8524 - val_loss: 0.3680 - val_accuracy: 0.8493\n",
      "Epoch 45/100\n",
      "536/536 [==============================] - 1s 1ms/step - loss: 0.3497 - accuracy: 0.8522 - val_loss: 0.3677 - val_accuracy: 0.8489\n",
      "Epoch 46/100\n",
      "536/536 [==============================] - 1s 1ms/step - loss: 0.3491 - accuracy: 0.8530 - val_loss: 0.3672 - val_accuracy: 0.8489\n",
      "Epoch 47/100\n",
      "536/536 [==============================] - 1s 1ms/step - loss: 0.3486 - accuracy: 0.8530 - val_loss: 0.3668 - val_accuracy: 0.8485\n",
      "Epoch 48/100\n",
      "536/536 [==============================] - 1s 989us/step - loss: 0.3482 - accuracy: 0.8539 - val_loss: 0.3666 - val_accuracy: 0.8485\n",
      "Epoch 49/100\n",
      "536/536 [==============================] - 1s 1ms/step - loss: 0.3478 - accuracy: 0.8530 - val_loss: 0.3664 - val_accuracy: 0.8497\n",
      "Epoch 50/100\n",
      "536/536 [==============================] - 1s 1ms/step - loss: 0.3473 - accuracy: 0.8533 - val_loss: 0.3663 - val_accuracy: 0.8497\n",
      "Epoch 51/100\n",
      "536/536 [==============================] - 1s 1ms/step - loss: 0.3469 - accuracy: 0.8526 - val_loss: 0.3659 - val_accuracy: 0.8493\n",
      "Epoch 52/100\n",
      "536/536 [==============================] - 1s 977us/step - loss: 0.3466 - accuracy: 0.8546 - val_loss: 0.3659 - val_accuracy: 0.8508\n",
      "Epoch 53/100\n",
      "536/536 [==============================] - 1s 1ms/step - loss: 0.3462 - accuracy: 0.8545 - val_loss: 0.3656 - val_accuracy: 0.8508\n",
      "Epoch 54/100\n",
      "536/536 [==============================] - 1s 1ms/step - loss: 0.3458 - accuracy: 0.8543 - val_loss: 0.3651 - val_accuracy: 0.8504\n",
      "Epoch 55/100\n",
      "536/536 [==============================] - 1s 1ms/step - loss: 0.3453 - accuracy: 0.8571 - val_loss: 0.3653 - val_accuracy: 0.8523\n",
      "Epoch 56/100\n",
      "536/536 [==============================] - 1s 973us/step - loss: 0.3449 - accuracy: 0.8550 - val_loss: 0.3649 - val_accuracy: 0.8531\n",
      "Epoch 57/100\n",
      "536/536 [==============================] - 1s 1ms/step - loss: 0.3446 - accuracy: 0.8552 - val_loss: 0.3645 - val_accuracy: 0.8531\n"
     ]
    },
    {
     "name": "stdout",
     "output_type": "stream",
     "text": [
      "Epoch 58/100\n",
      "536/536 [==============================] - 1s 1ms/step - loss: 0.3441 - accuracy: 0.8559 - val_loss: 0.3640 - val_accuracy: 0.8531\n",
      "Epoch 59/100\n",
      "536/536 [==============================] - 1s 1ms/step - loss: 0.3436 - accuracy: 0.8559 - val_loss: 0.3640 - val_accuracy: 0.8538\n",
      "Epoch 60/100\n",
      "536/536 [==============================] - 1s 1ms/step - loss: 0.3433 - accuracy: 0.8572 - val_loss: 0.3638 - val_accuracy: 0.8531\n",
      "Epoch 61/100\n",
      "536/536 [==============================] - 1s 1ms/step - loss: 0.3429 - accuracy: 0.8569 - val_loss: 0.3634 - val_accuracy: 0.8527\n",
      "Epoch 62/100\n",
      "536/536 [==============================] - 1s 1ms/step - loss: 0.3427 - accuracy: 0.8586 - val_loss: 0.3634 - val_accuracy: 0.8516\n",
      "Epoch 63/100\n",
      "536/536 [==============================] - 1s 1ms/step - loss: 0.3423 - accuracy: 0.8584 - val_loss: 0.3631 - val_accuracy: 0.8516\n",
      "Epoch 64/100\n",
      "536/536 [==============================] - 1s 1ms/step - loss: 0.3420 - accuracy: 0.8586 - val_loss: 0.3631 - val_accuracy: 0.8535\n",
      "Epoch 65/100\n",
      "536/536 [==============================] - 1s 1ms/step - loss: 0.3418 - accuracy: 0.8586 - val_loss: 0.3628 - val_accuracy: 0.8523\n",
      "Epoch 66/100\n",
      "536/536 [==============================] - 1s 2ms/step - loss: 0.3414 - accuracy: 0.8595 - val_loss: 0.3628 - val_accuracy: 0.8527\n",
      "Epoch 67/100\n",
      "536/536 [==============================] - 1s 1ms/step - loss: 0.3413 - accuracy: 0.8586 - val_loss: 0.3625 - val_accuracy: 0.8538\n",
      "Epoch 68/100\n",
      "536/536 [==============================] - 1s 1ms/step - loss: 0.3409 - accuracy: 0.8595 - val_loss: 0.3622 - val_accuracy: 0.8538\n",
      "Epoch 69/100\n",
      "536/536 [==============================] - 1s 1ms/step - loss: 0.3407 - accuracy: 0.8589 - val_loss: 0.3620 - val_accuracy: 0.8550\n",
      "Epoch 70/100\n",
      "536/536 [==============================] - 1s 1ms/step - loss: 0.3405 - accuracy: 0.8606 - val_loss: 0.3620 - val_accuracy: 0.8535\n",
      "Epoch 71/100\n",
      "536/536 [==============================] - 1s 1ms/step - loss: 0.3401 - accuracy: 0.8595 - val_loss: 0.3616 - val_accuracy: 0.8538\n",
      "Epoch 72/100\n",
      "536/536 [==============================] - 1s 1ms/step - loss: 0.3399 - accuracy: 0.8591 - val_loss: 0.3615 - val_accuracy: 0.8531\n",
      "Epoch 73/100\n",
      "536/536 [==============================] - 1s 1ms/step - loss: 0.3397 - accuracy: 0.8604 - val_loss: 0.3617 - val_accuracy: 0.8554\n",
      "Epoch 74/100\n",
      "536/536 [==============================] - 1s 1ms/step - loss: 0.3395 - accuracy: 0.8597 - val_loss: 0.3611 - val_accuracy: 0.8538\n",
      "Epoch 75/100\n",
      "536/536 [==============================] - 1s 1ms/step - loss: 0.3394 - accuracy: 0.8615 - val_loss: 0.3610 - val_accuracy: 0.8550\n",
      "Epoch 76/100\n",
      "536/536 [==============================] - 1s 1ms/step - loss: 0.3391 - accuracy: 0.8610 - val_loss: 0.3609 - val_accuracy: 0.8542\n",
      "Epoch 77/100\n",
      "536/536 [==============================] - 1s 1ms/step - loss: 0.3389 - accuracy: 0.8612 - val_loss: 0.3607 - val_accuracy: 0.8546\n",
      "Epoch 78/100\n",
      "536/536 [==============================] - 1s 1ms/step - loss: 0.3388 - accuracy: 0.8600 - val_loss: 0.3606 - val_accuracy: 0.8546\n",
      "Epoch 79/100\n",
      "536/536 [==============================] - 1s 1ms/step - loss: 0.3385 - accuracy: 0.8625 - val_loss: 0.3610 - val_accuracy: 0.8554\n",
      "Epoch 80/100\n",
      "536/536 [==============================] - 1s 1ms/step - loss: 0.3384 - accuracy: 0.8606 - val_loss: 0.3606 - val_accuracy: 0.8554\n",
      "Epoch 81/100\n",
      "536/536 [==============================] - 1s 1ms/step - loss: 0.3383 - accuracy: 0.8617 - val_loss: 0.3603 - val_accuracy: 0.8538\n",
      "Epoch 82/100\n",
      "536/536 [==============================] - 1s 1ms/step - loss: 0.3381 - accuracy: 0.8625 - val_loss: 0.3604 - val_accuracy: 0.8546\n",
      "Epoch 83/100\n",
      "536/536 [==============================] - 1s 1ms/step - loss: 0.3379 - accuracy: 0.8619 - val_loss: 0.3605 - val_accuracy: 0.8554\n",
      "Epoch 84/100\n",
      "536/536 [==============================] - 1s 1ms/step - loss: 0.3377 - accuracy: 0.8619 - val_loss: 0.3603 - val_accuracy: 0.8554\n",
      "Epoch 85/100\n",
      "536/536 [==============================] - 1s 1ms/step - loss: 0.3376 - accuracy: 0.8636 - val_loss: 0.3601 - val_accuracy: 0.8561\n",
      "Epoch 86/100\n",
      "536/536 [==============================] - 1s 1ms/step - loss: 0.3375 - accuracy: 0.8619 - val_loss: 0.3601 - val_accuracy: 0.8561\n",
      "Epoch 87/100\n",
      "536/536 [==============================] - 1s 984us/step - loss: 0.3373 - accuracy: 0.8627 - val_loss: 0.3601 - val_accuracy: 0.8565\n",
      "Epoch 88/100\n",
      "536/536 [==============================] - 1s 1ms/step - loss: 0.3371 - accuracy: 0.8630 - val_loss: 0.3598 - val_accuracy: 0.8557\n",
      "Epoch 89/100\n",
      "536/536 [==============================] - 1s 1ms/step - loss: 0.3370 - accuracy: 0.8651 - val_loss: 0.3597 - val_accuracy: 0.8565\n",
      "Epoch 90/100\n",
      "536/536 [==============================] - 1s 1ms/step - loss: 0.3369 - accuracy: 0.8640 - val_loss: 0.3596 - val_accuracy: 0.8565\n",
      "Epoch 91/100\n",
      "536/536 [==============================] - 1s 1ms/step - loss: 0.3366 - accuracy: 0.8623 - val_loss: 0.3600 - val_accuracy: 0.8573\n",
      "Epoch 92/100\n",
      "536/536 [==============================] - 1s 1ms/step - loss: 0.3367 - accuracy: 0.8634 - val_loss: 0.3596 - val_accuracy: 0.8557\n",
      "Epoch 93/100\n",
      "536/536 [==============================] - 1s 1ms/step - loss: 0.3364 - accuracy: 0.8642 - val_loss: 0.3595 - val_accuracy: 0.8542\n",
      "Epoch 94/100\n",
      "536/536 [==============================] - 1s 1ms/step - loss: 0.3363 - accuracy: 0.8638 - val_loss: 0.3592 - val_accuracy: 0.8557\n",
      "Epoch 95/100\n",
      "536/536 [==============================] - 1s 1ms/step - loss: 0.3361 - accuracy: 0.8632 - val_loss: 0.3591 - val_accuracy: 0.8542\n",
      "Epoch 96/100\n",
      "536/536 [==============================] - 1s 1ms/step - loss: 0.3360 - accuracy: 0.8621 - val_loss: 0.3592 - val_accuracy: 0.8561\n",
      "Epoch 97/100\n",
      "536/536 [==============================] - 1s 1ms/step - loss: 0.3358 - accuracy: 0.8642 - val_loss: 0.3591 - val_accuracy: 0.8546\n",
      "Epoch 98/100\n",
      "536/536 [==============================] - 1s 1ms/step - loss: 0.3358 - accuracy: 0.8638 - val_loss: 0.3590 - val_accuracy: 0.8573\n",
      "Epoch 99/100\n",
      "536/536 [==============================] - 1s 1ms/step - loss: 0.3356 - accuracy: 0.8632 - val_loss: 0.3593 - val_accuracy: 0.8569\n",
      "Epoch 100/100\n",
      "536/536 [==============================] - 1s 998us/step - loss: 0.3355 - accuracy: 0.8630 - val_loss: 0.3592 - val_accuracy: 0.8569\n"
     ]
    }
   ],
   "source": [
    "# Adding the input layer and the first hidden layer\n",
    "classifier.add(Dense(units = 6,kernel_initializer= 'he_uniform',activation='relu',input_dim = 11))\n",
    "\n",
    "# Adding the second hidden layer\n",
    "classifier.add(Dense(units = 6, kernel_initializer= 'he_uniform',activation='relu'))\n",
    "# Adding the output layer\n",
    "classifier.add(Dense(units = 1, kernel_initializer= 'glorot_uniform', activation = 'sigmoid'))\n",
    "\n",
    "# Compiling the ANN\n",
    "classifier.compile(optimizer = 'Adamax', loss = 'binary_crossentropy', metrics = ['accuracy'])\n",
    "\n",
    "# Fitting the ANN to the Training set\n",
    "model_history=classifier.fit(X_train, y_train,validation_split=0.33, batch_size = 10,epochs = 100)"
   ]
  },
  {
   "cell_type": "code",
   "execution_count": 15,
   "id": "954495dc",
   "metadata": {},
   "outputs": [
    {
     "name": "stdout",
     "output_type": "stream",
     "text": [
      "63/63 [==============================] - 1s 756us/step\n"
     ]
    }
   ],
   "source": [
    "# Part 3 - Making the predictions and evaluating the model\n",
    "\n",
    "# Predicting the Test set results\n",
    "y_pred = classifier.predict(X_test)\n",
    "y_pred = (y_pred > 0.5)"
   ]
  },
  {
   "cell_type": "code",
   "execution_count": 29,
   "id": "1af16a0a",
   "metadata": {},
   "outputs": [],
   "source": [
    "# Making the Confusion Matrix\n",
    "from sklearn.metrics import confusion_matrix\n",
    "cm = confusion_matrix(y_test, y_pred)"
   ]
  },
  {
   "cell_type": "code",
   "execution_count": 30,
   "id": "ac941c46",
   "metadata": {},
   "outputs": [
    {
     "data": {
      "text/plain": [
       "array([[1515,   80],\n",
       "       [ 206,  199]], dtype=int64)"
      ]
     },
     "execution_count": 30,
     "metadata": {},
     "output_type": "execute_result"
    }
   ],
   "source": [
    "cm"
   ]
  },
  {
   "cell_type": "code",
   "execution_count": 31,
   "id": "e3e09588",
   "metadata": {},
   "outputs": [],
   "source": [
    "# Calculate the Accuracy\n",
    "from sklearn.metrics import accuracy_score\n",
    "score=accuracy_score(y_pred,y_test)"
   ]
  },
  {
   "cell_type": "code",
   "execution_count": 32,
   "id": "018bb527",
   "metadata": {},
   "outputs": [
    {
     "data": {
      "text/plain": [
       "0.857"
      ]
     },
     "execution_count": 32,
     "metadata": {},
     "output_type": "execute_result"
    }
   ],
   "source": [
    "score"
   ]
  },
  {
   "cell_type": "code",
   "execution_count": null,
   "id": "ae9263c0",
   "metadata": {},
   "outputs": [],
   "source": []
  }
 ],
 "metadata": {
  "kernelspec": {
   "display_name": "Python 3 (ipykernel)",
   "language": "python",
   "name": "python3"
  },
  "language_info": {
   "codemirror_mode": {
    "name": "ipython",
    "version": 3
   },
   "file_extension": ".py",
   "mimetype": "text/x-python",
   "name": "python",
   "nbconvert_exporter": "python",
   "pygments_lexer": "ipython3",
   "version": "3.9.12"
  }
 },
 "nbformat": 4,
 "nbformat_minor": 5
}
